{
 "cells": [
  {
   "cell_type": "markdown",
   "id": "cbc43ca8",
   "metadata": {},
   "source": [
    "## Setup\n",
    "\n",
    "First, we will install an additional library: [xai4hep](https://github.com/farakiko/xai4hep)."
   ]
  },
  {
   "cell_type": "code",
   "execution_count": 1,
   "id": "cc8c79a2-02e4-474d-aa84-f359451441e6",
   "metadata": {
    "tags": []
   },
   "outputs": [
    {
     "name": "stdout",
     "output_type": "stream",
     "text": [
      "Defaulting to user installation because normal site-packages is not writeable\n",
      "Collecting git+https://github.com/jmduarte/xai4hep\n",
      "  Cloning https://github.com/jmduarte/xai4hep to /tmp/pip-req-build-b64r4vqy\n",
      "  Running command git clone --filter=blob:none --quiet https://github.com/jmduarte/xai4hep /tmp/pip-req-build-b64r4vqy\n",
      "  Resolved https://github.com/jmduarte/xai4hep to commit f77e70f4d5a7745d9b7a153ca65c6ca47e84d001\n",
      "  Preparing metadata (setup.py) ... \u001b[?25ldone\n",
      "\u001b[?25hRequirement already satisfied: torch>=1.8 in /global/common/software/nersc/pm-2022q4/sw/pytorch/1.13.1/lib/python3.9/site-packages (from xai4hep==1.0.0) (1.13.1)\n",
      "Requirement already satisfied: numpy>=1.21 in /global/common/software/nersc/pm-2022q4/sw/pytorch/1.13.1/lib/python3.9/site-packages (from xai4hep==1.0.0) (1.23.4)\n",
      "Requirement already satisfied: torch_geometric in /global/common/software/nersc/pm-2022q4/sw/pytorch/1.13.1/lib/python3.9/site-packages (from xai4hep==1.0.0) (2.2.0)\n",
      "Requirement already satisfied: torch-cluster in /global/common/software/nersc/pm-2022q4/sw/pytorch/1.13.1/lib/python3.9/site-packages (from xai4hep==1.0.0) (1.6.0)\n",
      "Requirement already satisfied: pandas in /global/common/software/nersc/pm-2022q4/sw/pytorch/1.13.1/lib/python3.9/site-packages (from xai4hep==1.0.0) (1.5.2)\n",
      "Requirement already satisfied: matplotlib in /global/common/software/nersc/pm-2022q4/sw/pytorch/1.13.1/lib/python3.9/site-packages (from xai4hep==1.0.0) (3.6.2)\n",
      "Collecting mplhep\n",
      "  Downloading mplhep-0.3.28-py3-none-any.whl (36 kB)\n",
      "Collecting captum\n",
      "  Downloading captum-0.6.0-py3-none-any.whl (1.3 MB)\n",
      "\u001b[2K     \u001b[90m━━━━━━━━━━━━━━━━━━━━━━━━━━━━━━━━━━━━━━━━\u001b[0m \u001b[32m1.3/1.3 MB\u001b[0m \u001b[31m26.4 MB/s\u001b[0m eta \u001b[36m0:00:00\u001b[0m:00:01\u001b[0m\n",
      "\u001b[?25hRequirement already satisfied: tqdm in /global/common/software/nersc/pm-2022q4/sw/pytorch/1.13.1/lib/python3.9/site-packages (from xai4hep==1.0.0) (4.64.1)\n",
      "Collecting fastjet\n",
      "  Downloading fastjet-3.4.1.2-cp39-cp39-manylinux_2_17_x86_64.manylinux2014_x86_64.whl (81.4 MB)\n",
      "\u001b[2K     \u001b[90m━━━━━━━━━━━━━━━━━━━━━━━━━━━━━━━━━━━━━━━━\u001b[0m \u001b[32m81.4/81.4 MB\u001b[0m \u001b[31m18.1 MB/s\u001b[0m eta \u001b[36m0:00:00\u001b[0m00:01\u001b[0m00:01\u001b[0m\n",
      "\u001b[?25hRequirement already satisfied: typing_extensions in /global/common/software/nersc/pm-2022q4/sw/pytorch/1.13.1/lib/python3.9/site-packages (from torch>=1.8->xai4hep==1.0.0) (4.4.0)\n",
      "Collecting vector\n",
      "  Downloading vector-1.1.0-py3-none-any.whl (171 kB)\n",
      "\u001b[2K     \u001b[90m━━━━━━━━━━━━━━━━━━━━━━━━━━━━━━━━━━━━━━━\u001b[0m \u001b[32m171.1/171.1 kB\u001b[0m \u001b[31m5.9 MB/s\u001b[0m eta \u001b[36m0:00:00\u001b[0m\n",
      "\u001b[?25hCollecting awkward>=2\n",
      "  Downloading awkward-2.3.1-py3-none-any.whl (631 kB)\n",
      "\u001b[2K     \u001b[90m━━━━━━━━━━━━━━━━━━━━━━━━━━━━━━━━━━━━━━\u001b[0m \u001b[32m631.2/631.2 kB\u001b[0m \u001b[31m20.4 MB/s\u001b[0m eta \u001b[36m0:00:00\u001b[0m\n",
      "\u001b[?25hRequirement already satisfied: cycler>=0.10 in /global/common/software/nersc/pm-2022q4/sw/pytorch/1.13.1/lib/python3.9/site-packages (from matplotlib->xai4hep==1.0.0) (0.11.0)\n",
      "Requirement already satisfied: pillow>=6.2.0 in /global/common/software/nersc/pm-2022q4/sw/pytorch/1.13.1/lib/python3.9/site-packages (from matplotlib->xai4hep==1.0.0) (9.3.0)\n",
      "Requirement already satisfied: python-dateutil>=2.7 in /global/common/software/nersc/pm-2022q4/sw/pytorch/1.13.1/lib/python3.9/site-packages (from matplotlib->xai4hep==1.0.0) (2.8.2)\n",
      "Requirement already satisfied: contourpy>=1.0.1 in /global/common/software/nersc/pm-2022q4/sw/pytorch/1.13.1/lib/python3.9/site-packages (from matplotlib->xai4hep==1.0.0) (1.0.5)\n",
      "Requirement already satisfied: pyparsing>=2.2.1 in /global/common/software/nersc/pm-2022q4/sw/pytorch/1.13.1/lib/python3.9/site-packages (from matplotlib->xai4hep==1.0.0) (3.0.9)\n",
      "Requirement already satisfied: fonttools>=4.22.0 in /global/common/software/nersc/pm-2022q4/sw/pytorch/1.13.1/lib/python3.9/site-packages (from matplotlib->xai4hep==1.0.0) (4.25.0)\n",
      "Requirement already satisfied: kiwisolver>=1.0.1 in /global/common/software/nersc/pm-2022q4/sw/pytorch/1.13.1/lib/python3.9/site-packages (from matplotlib->xai4hep==1.0.0) (1.4.2)\n",
      "Requirement already satisfied: packaging>=20.0 in /global/common/software/nersc/pm-2022q4/sw/pytorch/1.13.1/lib/python3.9/site-packages (from matplotlib->xai4hep==1.0.0) (22.0)\n",
      "Collecting mplhep-data\n",
      "  Downloading mplhep_data-0.0.3-py3-none-any.whl (5.8 MB)\n",
      "\u001b[2K     \u001b[90m━━━━━━━━━━━━━━━━━━━━━━━━━━━━━━━━━━━━━━━━\u001b[0m \u001b[32m5.8/5.8 MB\u001b[0m \u001b[31m71.9 MB/s\u001b[0m eta \u001b[36m0:00:00\u001b[0m:00:01\u001b[0m00:01\u001b[0m\n",
      "\u001b[?25hCollecting uhi>=0.2.0\n",
      "  Downloading uhi-0.3.3-py3-none-any.whl (11 kB)\n",
      "Requirement already satisfied: pytz>=2020.1 in /global/common/software/nersc/pm-2022q4/sw/pytorch/1.13.1/lib/python3.9/site-packages (from pandas->xai4hep==1.0.0) (2022.7)\n",
      "Requirement already satisfied: scipy in /global/common/software/nersc/pm-2022q4/sw/pytorch/1.13.1/lib/python3.9/site-packages (from torch-cluster->xai4hep==1.0.0) (1.9.3)\n",
      "Requirement already satisfied: requests in /global/common/software/nersc/pm-2022q4/sw/pytorch/1.13.1/lib/python3.9/site-packages (from torch_geometric->xai4hep==1.0.0) (2.28.1)\n",
      "Requirement already satisfied: psutil>=5.8.0 in /global/common/software/nersc/pm-2022q4/sw/pytorch/1.13.1/lib/python3.9/site-packages (from torch_geometric->xai4hep==1.0.0) (5.9.0)\n",
      "Requirement already satisfied: scikit-learn in /global/common/software/nersc/pm-2022q4/sw/pytorch/1.13.1/lib/python3.9/site-packages (from torch_geometric->xai4hep==1.0.0) (1.1.3)\n",
      "Requirement already satisfied: jinja2 in /global/common/software/nersc/pm-2022q4/sw/pytorch/1.13.1/lib/python3.9/site-packages (from torch_geometric->xai4hep==1.0.0) (3.1.2)\n",
      "Requirement already satisfied: torchmetrics in /global/common/software/nersc/pm-2022q4/sw/pytorch/1.13.1/lib/python3.9/site-packages (from torch_geometric->xai4hep==1.0.0) (0.11.0)\n",
      "Collecting awkward-cpp==21\n",
      "  Downloading awkward_cpp-21-cp39-cp39-manylinux_2_17_x86_64.manylinux2014_x86_64.whl (1.0 MB)\n",
      "\u001b[2K     \u001b[90m━━━━━━━━━━━━━━━━━━━━━━━━━━━━━━━━━━━━━━━━\u001b[0m \u001b[32m1.0/1.0 MB\u001b[0m \u001b[31m28.6 MB/s\u001b[0m eta \u001b[36m0:00:00\u001b[0m:00:01\u001b[0m\n",
      "\u001b[?25hRequirement already satisfied: six>=1.5 in /global/common/software/nersc/pm-2022q4/sw/pytorch/1.13.1/lib/python3.9/site-packages (from python-dateutil>=2.7->matplotlib->xai4hep==1.0.0) (1.16.0)\n",
      "Requirement already satisfied: MarkupSafe>=2.0 in /global/common/software/nersc/pm-2022q4/sw/pytorch/1.13.1/lib/python3.9/site-packages (from jinja2->torch_geometric->xai4hep==1.0.0) (2.1.1)\n",
      "Requirement already satisfied: charset-normalizer<3,>=2 in /global/common/software/nersc/pm-2022q4/sw/pytorch/1.13.1/lib/python3.9/site-packages (from requests->torch_geometric->xai4hep==1.0.0) (2.0.4)\n",
      "Requirement already satisfied: certifi>=2017.4.17 in /global/common/software/nersc/pm-2022q4/sw/pytorch/1.13.1/lib/python3.9/site-packages (from requests->torch_geometric->xai4hep==1.0.0) (2022.12.7)\n",
      "Requirement already satisfied: urllib3<1.27,>=1.21.1 in /global/common/software/nersc/pm-2022q4/sw/pytorch/1.13.1/lib/python3.9/site-packages (from requests->torch_geometric->xai4hep==1.0.0) (1.26.13)\n",
      "Requirement already satisfied: idna<4,>=2.5 in /global/common/software/nersc/pm-2022q4/sw/pytorch/1.13.1/lib/python3.9/site-packages (from requests->torch_geometric->xai4hep==1.0.0) (3.4)\n",
      "Requirement already satisfied: threadpoolctl>=2.0.0 in /global/common/software/nersc/pm-2022q4/sw/pytorch/1.13.1/lib/python3.9/site-packages (from scikit-learn->torch_geometric->xai4hep==1.0.0) (2.2.0)\n",
      "Requirement already satisfied: joblib>=1.0.0 in /global/common/software/nersc/pm-2022q4/sw/pytorch/1.13.1/lib/python3.9/site-packages (from scikit-learn->torch_geometric->xai4hep==1.0.0) (1.1.1)\n",
      "Building wheels for collected packages: xai4hep\n",
      "  Building wheel for xai4hep (setup.py) ... \u001b[?25ldone\n",
      "\u001b[?25h  Created wheel for xai4hep: filename=xai4hep-1.0.0-py3-none-any.whl size=37995 sha256=d0961c149f8d984651ec6c3b8085ef2081f78895b2869f62aeec68822110d7dc\n",
      "  Stored in directory: /tmp/pip-ephem-wheel-cache-j78ogndh/wheels/bd/f7/3e/63dee23769d4467b06e71f21e5860a9bd8f62ab1e5ac0092a0\n",
      "Successfully built xai4hep\n",
      "Installing collected packages: vector, uhi, mplhep-data, awkward-cpp, awkward, mplhep, fastjet, captum, xai4hep\n",
      "Successfully installed awkward-2.3.1 awkward-cpp-21 captum-0.6.0 fastjet-3.4.1.2 mplhep-0.3.28 mplhep-data-0.0.3 uhi-0.3.3 vector-1.1.0 xai4hep-1.0.0\n"
     ]
    }
   ],
   "source": [
    "! pip install git+https://github.com/farakiko/xai4hep"
   ]
  },
  {
   "cell_type": "markdown",
   "id": "6c2f2d79",
   "metadata": {},
   "source": [
    "# Prepare dataset\n",
    "\n",
    "This step has already been run for you so you don't need to execute it!\n",
    "We added the steps here for completeness."
   ]
  },
  {
   "cell_type": "code",
   "execution_count": 2,
   "id": "38ebac06-f2f6-4fd3-8490-14e58b3cf345",
   "metadata": {
    "tags": []
   },
   "outputs": [
    {
     "name": "stdout",
     "output_type": "stream",
     "text": [
      "/global/common/software/nersc/pm-2022q4/sw/pytorch/1.13.1/lib/python3.9/runpy.py:127: RuntimeWarning: 'xai4hep.particlenet.dataset' found in sys.modules after import of package 'xai4hep.particlenet', but prior to execution of 'xai4hep.particlenet.dataset'; this may result in unpredictable behaviour\n",
      "  warn(RuntimeWarning(msg))\n",
      "Downloading /global/cfs/cdirs/ntrain2/data/toptagging/test/raw/test.h5 from Zenodo\n",
      "saving datafile data_0\n",
      "saving datafile data_1\n",
      "saving datafile data_2\n",
      "saving datafile data_3\n"
     ]
    }
   ],
   "source": [
    "! python -m xai4hep.particlenet.dataset --dataset /global/cfs/cdirs/ntrain2/data/toptagging/ --mode test"
   ]
  },
  {
   "cell_type": "code",
   "execution_count": 3,
   "id": "e4a4b23d-26e9-4753-b4a8-b7df4160526a",
   "metadata": {
    "tags": []
   },
   "outputs": [
    {
     "name": "stdout",
     "output_type": "stream",
     "text": [
      "/global/common/software/nersc/pm-2022q4/sw/pytorch/1.13.1/lib/python3.9/runpy.py:127: RuntimeWarning: 'xai4hep.particlenet.dataset' found in sys.modules after import of package 'xai4hep.particlenet', but prior to execution of 'xai4hep.particlenet.dataset'; this may result in unpredictable behaviour\n",
      "  warn(RuntimeWarning(msg))\n",
      "Downloading /global/cfs/cdirs/ntrain2/data/toptagging/val/raw/val.h5 from Zenodo\n",
      "saving datafile data_0\n",
      "saving datafile data_1\n",
      "saving datafile data_2\n",
      "saving datafile data_3\n"
     ]
    }
   ],
   "source": [
    "! python -m xai4hep.particlenet.dataset --dataset /global/cfs/cdirs/ntrain2/data/toptagging/ --mode val"
   ]
  },
  {
   "cell_type": "code",
   "execution_count": 4,
   "id": "954a8089-b505-4192-915c-531cc8e7c835",
   "metadata": {
    "tags": []
   },
   "outputs": [
    {
     "name": "stdout",
     "output_type": "stream",
     "text": [
      "/global/common/software/nersc/pm-2022q4/sw/pytorch/1.13.1/lib/python3.9/runpy.py:127: RuntimeWarning: 'xai4hep.particlenet.dataset' found in sys.modules after import of package 'xai4hep.particlenet', but prior to execution of 'xai4hep.particlenet.dataset'; this may result in unpredictable behaviour\n",
      "  warn(RuntimeWarning(msg))\n",
      "Downloading /global/cfs/cdirs/ntrain2/data/toptagging/train/raw/train.h5 from Zenodo\n",
      "saving datafile data_0\n",
      "saving datafile data_1\n",
      "saving datafile data_2\n",
      "saving datafile data_3\n",
      "saving datafile data_4\n",
      "saving datafile data_5\n",
      "saving datafile data_6\n",
      "saving datafile data_7\n",
      "saving datafile data_8\n",
      "saving datafile data_9\n",
      "saving datafile data_10\n",
      "saving datafile data_11\n"
     ]
    }
   ],
   "source": [
    "! python -m xai4hep.particlenet.dataset --dataset /global/cfs/cdirs/ntrain2/data/toptagging/ --mode train"
   ]
  },
  {
   "cell_type": "code",
   "execution_count": null,
   "id": "9eb26e6f-d687-413f-8eaf-217c7fff3164",
   "metadata": {},
   "outputs": [],
   "source": []
  }
 ],
 "metadata": {
  "kernelspec": {
   "display_name": "pytorch-1.13.1",
   "language": "python",
   "name": "pytorch-1.13.1"
  },
  "language_info": {
   "codemirror_mode": {
    "name": "ipython",
    "version": 3
   },
   "file_extension": ".py",
   "mimetype": "text/x-python",
   "name": "python",
   "nbconvert_exporter": "python",
   "pygments_lexer": "ipython3",
   "version": "3.9.15"
  }
 },
 "nbformat": 4,
 "nbformat_minor": 5
}
