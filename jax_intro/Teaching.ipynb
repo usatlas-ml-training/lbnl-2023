{
 "cells": [
  {
   "cell_type": "markdown",
   "id": "f20aea65",
   "metadata": {},
   "source": [
    "# Jax as accelerated NumPY"
   ]
  },
  {
   "cell_type": "code",
   "execution_count": null,
   "id": "c0f7ba64",
   "metadata": {},
   "outputs": [],
   "source": [
    "import numpy as np\n",
    "\n",
    "import os\n",
    "os.environ[\"XLA_PYTHON_CLIENT_PREALLOCATE\"] = \"false\"\n",
    "\n",
    "import jax\n",
    "import jax.numpy as jnp\n",
    "import jax.random as jrandom\n",
    "\n",
    "key = jrandom.PRNGKey(42)\n",
    "\n",
    "a = jrandom.uniform(key, shape=(30, 30))\n"
   ]
  },
  {
   "cell_type": "code",
   "execution_count": null,
   "id": "cae69fc7",
   "metadata": {},
   "outputs": [],
   "source": [
    "### Drop-in replacement for NumPy"
   ]
  },
  {
   "cell_type": "code",
   "execution_count": null,
   "id": "d820e3bd",
   "metadata": {},
   "outputs": [],
   "source": [
    "det_a = jnp.linalg.det(a)\n",
    "det_a\n",
    "b = a @ a\n",
    "jnp.linalg.det(b) - det_a * det_a\n",
    "\n",
    "%timeit jnp.linalg.inv(a).block_until_ready()\n"
   ]
  },
  {
   "cell_type": "code",
   "execution_count": null,
   "id": "4a733406",
   "metadata": {},
   "outputs": [],
   "source": [
    "### Immutability"
   ]
  },
  {
   "cell_type": "code",
   "execution_count": null,
   "id": "13b71c86",
   "metadata": {},
   "outputs": [],
   "source": [
    "a = jnp.zeros((2, 2))\n",
    "\n",
    "print(f\"{id(a) = }\")\n",
    "\n",
    "\n",
    "b = a.at[1, :].set(22)\n",
    "\n",
    "print(f\"{a = },\\n{id(a) = },\\n{b = },\\n{id(b) = }\")"
   ]
  },
  {
   "cell_type": "markdown",
   "id": "5f7ee775",
   "metadata": {},
   "source": [
    "### `jax.jit` first example"
   ]
  },
  {
   "cell_type": "code",
   "execution_count": null,
   "id": "6a7bcf99",
   "metadata": {},
   "outputs": [],
   "source": [
    "def f(x):\n",
    "    z1 = x ** 2 + jnp.exp(x) + jnp.sin(x)\n",
    "    z2 = 3 *(x ** 2 + jnp.exp(x) + jnp.sin(x)) + \\\n",
    "         2 * (jnp.sin(x) + jnp.cos(x**2 + jnp.exp(x)))\n",
    "    return z1 + z2\n",
    "\n",
    "x = jnp.linspace(0, 1, 1000000)\n",
    "\n",
    "%timeit y = f(x).block_until_ready()\n",
    "compiled_f = jax.jit(f)\n",
    "\n",
    "# run once to compile\n",
    "y_compiled = compiled_f(x)\n",
    "\n",
    "# now calls to compiled_f will be faster now\n",
    "%timeit y_compiled = compiled_f(x).block_until_ready()\n",
    "\n"
   ]
  },
  {
   "cell_type": "code",
   "execution_count": null,
   "id": "9da6c28c",
   "metadata": {},
   "outputs": [],
   "source": [
    "seed = 42\n",
    "key = jrandom.PRNGKey(seed)\n",
    "\n",
    "# we need 10 random normal matrices and 1 random vector\n",
    "# key is saved for later\n",
    "key, *subkeys = jrandom.split(key, num=12)\n",
    "xs = jrandom.uniform(subkeys[0], (3,))\n",
    "\n",
    "rand_matrices = [ jrandom.normal(subkeys[i], (20, 20))\n",
    "                  for i in range(1, 11) ]\n",
    "\n"
   ]
  },
  {
   "cell_type": "markdown",
   "id": "0240b8ff",
   "metadata": {},
   "source": [
    "### Chebyshev polynomials\n",
    "$$T_2(x) = 2x^2 - 1$$\n",
    "$$T_3(x) = 4x^3 - 3x$$\n",
    "$$T_4(x) = 8x^4 - 8x^2 + 1$$\n",
    "\n"
   ]
  },
  {
   "cell_type": "code",
   "execution_count": null,
   "id": "74d35ddd",
   "metadata": {},
   "outputs": [],
   "source": [
    "xs = jnp.linspace(-1.0, 1.0, 100)\n",
    "\n",
    "def cheb_2(x):\n",
    "    return jnp.cos(2 * jnp.arccos(x))\n",
    "\n",
    "def cheb_3(x):\n",
    "    return jnp.cos(3 * jnp.arccos(x))\n",
    "\n",
    "def cheb_4(x):\n",
    "    return jnp.cos(4 * jnp.arccos(x))\n",
    "\n",
    "ys_2 = cheb_2(xs)\n",
    "ys_3 = cheb_3(xs)\n",
    "ys_4 = cheb_4(xs)\n",
    "\n",
    "from matplotlib import pyplot as plt\n",
    "from matplotlib import rc\n",
    "\n",
    "\n",
    "ys_2 = cheb_2(xs)\n",
    "ys_3 = cheb_3(xs)\n",
    "ys_4 = cheb_4(xs)\n",
    "\n",
    "print(f\"{xs.shape = }, {ys_2.shape = }\")\n",
    "plt.plot(xs, ys_2, color=\"red\", label=\"T_2\")\n",
    "plt.plot(xs, ys_3, color=\"blue\", label=\"T_3\")\n",
    "plt.plot(xs, ys_4, color=\"green\", label=\"T_4\")\n",
    "plt.legend(loc=\"upper left\")\n",
    "plt.title = \"Chebyshev Polynomials\"\n",
    "\n",
    "plt.show()\n"
   ]
  },
  {
   "cell_type": "code",
   "execution_count": null,
   "id": "7a509bc1",
   "metadata": {},
   "outputs": [],
   "source": [
    "import jax\n",
    "\n",
    "cheb_2_prime = jax.grad(cheb_2)\n",
    "cheb_3_prime = jax.grad(cheb_3)\n",
    "cheb_4_prime = jax.grad(cheb_4)\n",
    "\n",
    "ys_2_prime_slow = []\n",
    "for x in xs:\n",
    "    ys_2_prime_slow.append(cheb_2_prime(x))\n",
    "    \n",
    "ys_2_prime = jax.vmap(jax.grad(cheb_2))(xs)\n",
    "ys_3_prime = jax.vmap(jax.grad(cheb_3))(xs)\n",
    "ys_4_prime = jax.vmap(jax.grad(cheb_4))(xs)\n",
    "\n",
    "plt.plot(xs, ys_2_prime, color=\"red\", label=\"T'_2\")\n",
    "plt.plot(xs, ys_3_prime, color=\"blue\", label=\"T'_3\")\n",
    "plt.plot(xs, ys_4_prime, color=\"green\", label=\"T'_4\")\n",
    "plt.legend(loc=\"upper left\")\n",
    "plt.title = \"Derivatives\"\n",
    "plt.show()\n",
    "\n",
    "\n"
   ]
  },
  {
   "cell_type": "markdown",
   "id": "c52d7c02",
   "metadata": {},
   "source": [
    "### `vmap` example"
   ]
  },
  {
   "cell_type": "code",
   "execution_count": null,
   "id": "2e0aedb3",
   "metadata": {},
   "outputs": [],
   "source": [
    "def kinetic_energy(p, m1, m2, m3):\n",
    "    kin_1 = m1 * jnp.sum(p[9:12] ** 2)\n",
    "    kin_2 = m2 * jnp.sum(p[12:15] ** 2)\n",
    "    kin_3 = m3 * jnp.sum(p[15:18] ** 2)\n",
    "    return (kin_1 + kin_2 + kin_3) / 2\n",
    "\n",
    "key = jrandom.PRNGKey(42)\n",
    "traj = jrandom.uniform(key, (100, 18))\n",
    "\n",
    "m1 = m2 = m3 = 1.0\n",
    "\n",
    "v_energy = jax.vmap(kinetic_energy, in_axes=(0, None, None, None))\n",
    "ys = v_energy(traj, m1, m2, m3)\n",
    "\n",
    "print(ys.shape)"
   ]
  },
  {
   "cell_type": "markdown",
   "id": "70262cf4",
   "metadata": {},
   "source": [
    "## Sharp Bits"
   ]
  },
  {
   "cell_type": "code",
   "execution_count": null,
   "id": "3573cb0e",
   "metadata": {},
   "outputs": [],
   "source": [
    "a_jnp = jnp.arange(10)\n",
    "a_np = np.arange(10)\n",
    "\n",
    "try:\n",
    "    print(a_jnp[10]) \n",
    "    print(a_jnp[1000]) \n",
    "except IndexError:\n",
    "    print(\"Jax: Out of bounds\")\n",
    "\n",
    "try:\n",
    "    print(a_np[10])\n",
    "except IndexError:\n",
    "    print(\"NumPy: Out of bounds\")\n",
    "\n"
   ]
  },
  {
   "cell_type": "code",
   "execution_count": null,
   "id": "a2662ddf",
   "metadata": {},
   "outputs": [],
   "source": [
    "import jax\n",
    "\n",
    "# jax.config.update(\"jax_debug_nans\", True)\n",
    "\n",
    "def cheb_2(x):\n",
    "    return jnp.cos(2 * jnp.arccos(x))\n",
    "\n",
    "xs = jnp.linspace(-1.0, 1.0, 4)\n",
    "\n",
    "cheb_2_prime = jax.grad(cheb_2)\n",
    "print(jax.vmap(cheb_2_prime)(xs))\n",
    "\n"
   ]
  },
  {
   "cell_type": "code",
   "execution_count": null,
   "id": "6afe2842",
   "metadata": {},
   "outputs": [],
   "source": []
  }
 ],
 "metadata": {
  "kernelspec": {
   "display_name": "Python 3 (ipykernel)",
   "language": "python",
   "name": "python3"
  },
  "language_info": {
   "codemirror_mode": {
    "name": "ipython",
    "version": 3
   },
   "file_extension": ".py",
   "mimetype": "text/x-python",
   "name": "python",
   "nbconvert_exporter": "python",
   "pygments_lexer": "ipython3",
   "version": "3.11.3"
  }
 },
 "nbformat": 4,
 "nbformat_minor": 5
}
