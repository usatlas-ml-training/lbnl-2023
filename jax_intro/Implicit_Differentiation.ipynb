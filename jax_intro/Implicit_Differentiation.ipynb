{
 "cells": [
  {
   "cell_type": "markdown",
   "metadata": {
    "id": "hWM8j23lCiKR"
   },
   "source": [
    "# Implicit Differentiation\n",
    "This notebook will briefly look at implicit differentiation. Implicit differentiation has numerous applications; we will look at a simple fixed point iteration.\n",
    "\n",
    "For a more in-depth guide on its application to machine learning, see the NeurIPS 2020 tutorial on [deep implicit layers](http://implicit-layers-tutorial.org/). Full credit goes to the deep implicit layers tutorial from which we pull examples and applicable code from to provide a primer on the implicit function theorem and itss applications."
   ]
  },
  {
   "cell_type": "code",
   "execution_count": 1,
   "metadata": {
    "id": "ThAXuiDiCfup",
    "tags": []
   },
   "outputs": [],
   "source": [
    "import numpy as np\n",
    "import jax\n",
    "import jax.numpy as jnp\n",
    "import matplotlib.pyplot as plt\n",
    "from functools import partial\n",
    "from jax import random\n",
    "\n",
    "import os\n",
    "os.environ[\"XLA_PYTHON_CLIENT_PREALLOCATE\"] = \"false\"\n",
    "\n",
    "%matplotlib inline"
   ]
  },
  {
   "cell_type": "markdown",
   "metadata": {
    "id": "6geise9Xn0Wg"
   },
   "source": [
    "First, let's consider a simple fixed point iteration problem: $z = \\tanh(Wz + x)$. Formally, we wish to solve the problem:\n",
    "\n",
    "Find $z$ such that $g(x, z) = 0$ where $g(x, z) = z - \\tanh(Wz + x)$"
   ]
  },
  {
   "cell_type": "code",
   "execution_count": 2,
   "metadata": {
    "id": "FGpE4-iXnz_o"
   },
   "outputs": [
    {
     "name": "stdout",
     "output_type": "stream",
     "text": [
      "35 Fixed point iterations\n",
      "[-0.16798191 -0.39130193 -0.83032316 -0.15473165 -0.4114282  -0.38461813\n",
      "  0.07424818  0.4667457   0.02648443  0.686279  ]\n"
     ]
    }
   ],
   "source": [
    "func = lambda w, x, z: jnp.tanh(W @ z + x)\n",
    "ndim = 10\n",
    "W = random.normal(random.PRNGKey(0), (ndim, ndim)) / jnp.sqrt(ndim)\n",
    "x = random.normal(random.PRNGKey(1), (ndim,)) / jnp.sqrt(ndim)\n",
    "z_init = jnp.zeros_like(x)\n",
    "\n",
    "def fixed_point(func, z_0, tol=1e-5):\n",
    "    z_i = func(z_0)\n",
    "    z_prev = z_0\n",
    "    num_iteration = 1\n",
    "    while jnp.linalg.norm(z_prev - z_i) > tol:\n",
    "        z_prev = z_i\n",
    "        z_i = func(z_i)\n",
    "        num_iteration += 1\n",
    "    return z_i, num_iteration\n",
    "z_star_naive, naive_num_iteration = fixed_point(lambda z: func(W, x, z), z_init)\n",
    "print(naive_num_iteration, 'Fixed point iterations')\n",
    "print(z_star_naive)\n"
   ]
  },
  {
   "cell_type": "markdown",
   "metadata": {
    "id": "2OLMw4IcoPTg"
   },
   "source": [
    "Alternatively, we can use Newton's method:\n",
    "$z = z - (\\frac{\\partial g}{\\partial z})^{-1} g(z)$. Since we know the closed form of $g$, we can manually compute $\\frac{\\partial g}{\\partial z}$. However, we can leverage autograd to compute this jacobian for us.\n",
    "\n",
    "$\\frac{\\partial g}{\\partial z} = I - \\text{diag}(\\tanh'(Wz + x))W$."
   ]
  },
  {
   "cell_type": "code",
   "execution_count": 3,
   "metadata": {
    "id": "8j1Sf59iDhH6"
   },
   "outputs": [
    {
     "name": "stdout",
     "output_type": "stream",
     "text": [
      "Difference between newton's method and naive fixed point iteration: 4.425548e-06\n",
      "Number of iterations for newton's method: 5\n"
     ]
    }
   ],
   "source": [
    "def dg_dz(w, x, z):\n",
    "    return jnp.eye(z.shape[0]) - (1 / jnp.cosh(w * z + x) ** 2) * w\n",
    "\n",
    "def newton_solver(func, z_0, tol=1e-5):\n",
    "    func_root = lambda z_i: func(z_i) - z_i\n",
    "    # Using autograd!\n",
    "    newton_eqn = lambda z_i: z_i - jnp.linalg.solve(jax.jacobian(func_root)(z_i), func_root(z_i))\n",
    "    return fixed_point(newton_eqn, z_0, tol=tol)\n",
    "\n",
    "newton_z_star, newton_num_iterations = newton_solver(lambda z: func(W, x, z),\n",
    "                                         z_init)\n",
    "\n",
    "print(\"Difference between newton's method and naive fixed point iteration:\", jnp.linalg.norm(newton_z_star - z_star_naive))\n",
    "print(\"Number of iterations for newton's method:\", newton_num_iterations)\n"
   ]
  },
  {
   "cell_type": "markdown",
   "metadata": {
    "id": "fkzFPEwRsa6p"
   },
   "source": [
    "So far so good! What if we want to find $\\frac{\\partial z^*}{\\partial x}$? This is where we will leverage the **implicit function theorem** (IFT). Before stating the theorem, we'll work through an example:\n",
    "\n",
    "Since this is a fixed point iteration, we know:\n",
    "\n",
    "$\\frac{\\partial g(x, z^*)}{\\partial x} = 0$\n",
    "\n",
    "and expanding via the chain rule:\n",
    "\n",
    "$\\frac{\\partial g(x, z^*)}{\\partial x}  + \\frac{\\partial g(x, z^*)}{\\partial z^*} \\cdot \\frac{\\partial z^*(x)}{\\partial x}= 0$.\n",
    "\n",
    "Thus:\n",
    "\n",
    "$\\frac{\\partial z^*(x)}{\\partial x} = - \\left(\\frac{\\partial g(x, z^*)}{\\partial z^*}\\right) ^{-1} \\cdot  \\frac{\\partial g(x, z^*)}{\\partial x}$.\n",
    "\n",
    "In code:"
   ]
  },
  {
   "cell_type": "code",
   "execution_count": 4,
   "metadata": {
    "id": "1DzLfexLuNiC"
   },
   "outputs": [
    {
     "name": "stdout",
     "output_type": "stream",
     "text": [
      "Time for IFT:\n",
      "20.7 ms ± 2.82 ms per loop (mean ± std. dev. of 7 runs, 100 loops each)\n",
      "Time for autograd:\n",
      "217 ms ± 8.55 ms per loop (mean ± std. dev. of 7 runs, 1 loop each)\n"
     ]
    }
   ],
   "source": [
    "def compute_dz_dx(func, w, x, z_star):\n",
    "    func_root = lambda z_i: func(w, x, z_i) - z_i\n",
    "    dg_dz_inv = lambda z_i: -1 * jnp.linalg.solve(jax.jacobian(func_root)(z_i), func_root(z_i))\n",
    "    dg_dx = jax.jacobian(func, argnums=1)(w, x, z_star)\n",
    "    return dg_dz_inv(z_star) * dg_dx\n",
    "\n",
    "dz_dx = compute_dz_dx(func, W, x, newton_z_star)\n",
    "\n",
    "\n",
    "def newton_forward(func, w, x, z_init):\n",
    "    return newton_solver(lambda z: func(w, x, z), z_init)[0]\n",
    "\n",
    "dz_dx_autograd = jax.jacobian(newton_forward, argnums=2)(func, W, x, z_init)\n",
    "\n",
    "## Is this actually faster?\n",
    "\n",
    "print('Time for IFT:')\n",
    "%timeit compute_dz_dx(func, W, x, newton_z_star)\n",
    "\n",
    "print('Time for autograd:')\n",
    "%timeit jax.jacobian(newton_forward, argnums=2)(func, W, x, z_init)"
   ]
  },
  {
   "cell_type": "markdown",
   "metadata": {
    "id": "eKj8W0mlw-Qy"
   },
   "source": [
    "Differentiating through Newton's method is now orders of magnitude faster!"
   ]
  },
  {
   "cell_type": "markdown",
   "metadata": {
    "id": "Mpqod0fYzCWX"
   },
   "source": [
    "# IFT Formally...\n",
    "\n",
    "**Implicit Function Theorem:** Let $f: \\mathbb{R}^p \\times \\mathbb{R}^n \\rightarrow \\mathbb{R}^n$ and $a_0 \\in \\mathbb{R}^p$, $z_0 \\in \\mathbb{R}^n$ such that:\n",
    "\n",
    "1. $f(a_0, z_0) = 0$\n",
    "2. $f$ is continuously differentiable with non-singular jacobian $\\partial _1 f(a_0, z_0) \\in \\mathbb{R}^{n\\times n}$.\n",
    "\n",
    "Then there exists an open set $S_{a_0} \\subset \\mathbb{R}^p$, $S_{z_0} \\subset \\mathbb{R}^n$ containing $a_0$ and $z_0$ respectively and a unique continuous function $z^*: S_{a_0} \\rightarrow S_{z_0}$ such that:\n",
    "\n",
    "1. $z_0 = z^*(a_0)$\n",
    "2. $f(a, z^*(a)) = 0 \\forall a \\in S_{a_0}$\n",
    "3. $z^*$ is differentiable on $S_{a_0}$."
   ]
  },
  {
   "cell_type": "markdown",
   "metadata": {
    "id": "oMt9IJYN3UnT"
   },
   "source": [
    "We've covered a simple example of the IFT and shown how the IFT can greatly reduce the cost of differentiating through an optimization loop. However, this notebook only touches the surface of what is possible with the IFT. For some additional references, please see:\n",
    "\n",
    "- [Jaxopt](https://github.com/google/jaxopt) is a great library leveraging the IFT for differentiable optimization problems. They handle the registering of custom gradient definitions in Jax's autograd engine and act as a drop in replacement for many common optimization problems (e.g., constrained QP, root finding). The analogous PyTorch library is [Theseus](https://github.com/facebookresearch/theseus).\n",
    "- [NeurIPS 2020 tutorial](http://implicit-layers-tutorial.org/) on implicit layers."
   ]
  },
  {
   "cell_type": "markdown",
   "metadata": {
    "id": "DqdDYUzd1c_N"
   },
   "source": [
    "Further references:\n",
    "\n"
   ]
  },
  {
   "cell_type": "markdown",
   "metadata": {
    "id": "HB5Muj2R3Ogi"
   },
   "source": [
    "# An exercise\n",
    "We leave the following example as an exercise. Consider a similar fixed point iteration problem as Newton solver. However, this time we will use [Anderson Acceleration](https://en.wikipedia.org/wiki/Anderson_acceleration). We provide the implementation of the forward solver; your task is to use the IFT to compute $\\frac{\\partial z^*}{\\partial x}$."
   ]
  },
  {
   "cell_type": "code",
   "execution_count": 5,
   "metadata": {
    "id": "MbibX_Dw1b-j"
   },
   "outputs": [
    {
     "name": "stdout",
     "output_type": "stream",
     "text": [
      "[-0.16797939 -0.3912952  -0.83031964 -0.15471825 -0.41141713 -0.38461316\n",
      "  0.07425945  0.46674597  0.02648038  0.6862731 ]\n"
     ]
    }
   ],
   "source": [
    "def anderson_solver(func, z_init, m=5, lam=1e-4, max_iter=50, tol=1e-5, beta=1.0):\n",
    "    x0 = z_init\n",
    "    x1 = func(x0)\n",
    "    x2 = func(x1)\n",
    "    X = jnp.concatenate([jnp.stack([x0, x1]), jnp.zeros((m - 2, *jnp.shape(x0)))])\n",
    "    F = jnp.concatenate([jnp.stack([x1, x2]), jnp.zeros((m - 2, *jnp.shape(x0)))])\n",
    "\n",
    "    res = []\n",
    "    for k in range(2, max_iter):\n",
    "        n = min(k, m)\n",
    "        G = F[:n] - X[:n]\n",
    "        GTG = jnp.tensordot(G, G, [list(range(1, G.ndim))] * 2)\n",
    "        H = jnp.block([[jnp.zeros((1, 1)), jnp.ones((1, n))],\n",
    "                    [ jnp.ones((n, 1)), GTG]]) + lam * jnp.eye(n + 1)\n",
    "        alpha = jnp.linalg.solve(H, jnp.zeros(n+1).at[0].set(1))[1:]\n",
    "\n",
    "        xk = beta * jnp.dot(alpha, F[:n]) + (1-beta) * jnp.dot(alpha, X[:n])\n",
    "        X = X.at[k % m].set(xk)\n",
    "        F = F.at[k % m].set(func(xk))\n",
    "\n",
    "        res = jnp.linalg.norm(F[k % m] - X[k % m]) / (1e-5 + jnp.linalg.norm(F[k % m]))\n",
    "        if res < tol:\n",
    "            break\n",
    "    return xk\n",
    "\n",
    "f = lambda z: func(W, x, z)\n",
    "\n",
    "anderson_solution = anderson_solver(f, z_init)\n",
    "print(anderson_solution)"
   ]
  },
  {
   "cell_type": "code",
   "execution_count": 6,
   "metadata": {
    "id": "OrTMgACJ5V_Q"
   },
   "outputs": [
    {
     "data": {
      "text/plain": [
       "Array([-0.16797939, -0.3912952 , -0.83031964, -0.15471825, -0.41141713,\n",
       "       -0.38461316,  0.07425945,  0.46674597,  0.02648038,  0.6862731 ],      dtype=float32)"
      ]
     },
     "execution_count": 6,
     "metadata": {},
     "output_type": "execute_result"
    }
   ],
   "source": [
    "anderson_solution"
   ]
  },
  {
   "cell_type": "code",
   "execution_count": null,
   "metadata": {
    "id": "ZZIsUxb15XE7"
   },
   "outputs": [],
   "source": []
  }
 ],
 "metadata": {
  "colab": {
   "provenance": []
  },
  "kernelspec": {
   "display_name": "atlas-ml-jax",
   "language": "python",
   "name": "atlas-ml-jax"
  },
  "language_info": {
   "codemirror_mode": {
    "name": "ipython",
    "version": 3
   },
   "file_extension": ".py",
   "mimetype": "text/x-python",
   "name": "python",
   "nbconvert_exporter": "python",
   "pygments_lexer": "ipython3",
   "version": "3.9.17"
  }
 },
 "nbformat": 4,
 "nbformat_minor": 4
}
